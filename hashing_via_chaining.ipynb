{
 "cells": [
  {
   "cell_type": "code",
   "execution_count": 1,
   "metadata": {
    "id": "5RCi9eWfv3KK"
   },
   "outputs": [],
   "source": [
    "class Node:\n",
    "\n",
    "  def __init__(self,key,value):\n",
    "    self.key = key\n",
    "    self.value = value\n",
    "    self.next = None"
   ]
  },
  {
   "cell_type": "code",
   "execution_count": 2,
   "metadata": {
    "id": "mQ4C69JewaWJ"
   },
   "outputs": [],
   "source": [
    "class LL:  # Define a class for a singly linked list.\n",
    "    \n",
    "    def __init__(self):  # Constructor to initialize the linked list.\n",
    "        self.head = None  # Set the head of the list to None (indicating an empty list).\n",
    "\n",
    "    def add(self, key, value):  # Method to add a new node to the list.\n",
    "        new_node = Node(key, value)  # Create a new node with the given key and value.\n",
    "\n",
    "        if self.head == None:  # If the list is empty, make the new node the head.\n",
    "            self.head = new_node\n",
    "        else:  # Otherwise, find the end of the list and append the new node.\n",
    "            temp = self.head  # Start traversing from the head.\n",
    "            while temp.next != None:  # Traverse until the last node is found.\n",
    "                temp = temp.next\n",
    "            temp.next = new_node  # Link the last node to the new node.\n",
    "\n",
    "    def delete_head(self):  # Method to delete the head node of the list.\n",
    "        if self.head == None:  # If the list is empty, return \"Empty\".\n",
    "            return \"Empty\"\n",
    "        else:  # Otherwise, move the head pointer to the next node.\n",
    "            self.head = self.head.next\n",
    "\n",
    "    def remove(self, key):  # Method to remove a node by its key.\n",
    "        if self.head.key == key:  # If the key is at the head, delete the head.\n",
    "            self.delete_head()\n",
    "            return\n",
    "\n",
    "        if self.head == None:  # If the list is empty, return \"Empty\".\n",
    "            return \"Empty\"\n",
    "        else:\n",
    "            temp = self.head  # Start traversing from the head.\n",
    "\n",
    "            while temp.next != None:  # Traverse until the target node is found or end is reached.\n",
    "                if temp.next.key == key:  # Check if the next node has the key.\n",
    "                    break\n",
    "                temp = temp.next\n",
    "\n",
    "            if temp.next == None:  # If the key was not found, return \"Not Found\".\n",
    "                return \"Not Found\"\n",
    "            else:  # Otherwise, bypass the node to be removed.\n",
    "                temp.next = temp.next.next\n",
    "\n",
    "    def traverse(self):  # Method to print all nodes in the list.\n",
    "        temp = self.head  # Start from the head.\n",
    "\n",
    "        while temp != None:  # Traverse until the end of the list.\n",
    "            print(temp.key, \"-->\", temp.value, \" \", end=\" \")  # Print the key and value of each node.\n",
    "            temp = temp.next  # Move to the next node.\n",
    "\n",
    "    def size(self):  # Method to return the size (number of nodes) of the list.\n",
    "        temp = self.head  # Start from the head.\n",
    "        counter = 0  # Initialize the counter.\n",
    "\n",
    "        while temp != None:  # Traverse through the list.\n",
    "            counter += 1  # Increment the counter for each node.\n",
    "            temp = temp.next  # Move to the next node.\n",
    "\n",
    "        return counter  # Return the total count.\n",
    "\n",
    "    def search(self, key):  # Method to search for a node by its key.\n",
    "        temp = self.head  # Start from the head.\n",
    "        pos = 0  # Initialize the position counter.\n",
    "\n",
    "        while temp != None:  # Traverse the list.\n",
    "            if temp.key == key:  # If the key matches, return the position.\n",
    "                return pos\n",
    "            temp = temp.next  # Move to the next node.\n",
    "            pos += 1  # Increment the position counter.\n",
    "\n",
    "        return -1  # If the key is not found, return -1.\n",
    "\n",
    "    def get_node_at_index(self, index):  # Method to get the node at a specific index.\n",
    "        temp = self.head  # Start from the head.\n",
    "        counter = 0  # Initialize the counter.\n",
    "\n",
    "        while temp is not None:  # Traverse the list.\n",
    "            if counter == index:  # If the current index matches the target, return the node.\n",
    "                return temp\n",
    "            temp = temp.next  # Move to the next node.\n",
    "            counter += 1  # Increment the counter.\n"
   ]
  },
  {
   "cell_type": "code",
   "execution_count": 3,
   "metadata": {
    "id": "KJq7iUJox5qM"
   },
   "outputs": [],
   "source": [
    "class Dictionary:\n",
    "\n",
    "    def __init__(self, capacity):  # Constructor to initialize the dictionary.\n",
    "        self.capacity = capacity  # Set the initial capacity of the dictionary.\n",
    "        self.size = 0  # Initialize the size of the dictionary to zero.\n",
    "        self.buckets = self.make_array(self.capacity)  # Create an array of linked lists for the hash table.\n",
    "\n",
    "    def make_array(self, capacity):  # Helper method to create an array of linked lists.\n",
    "        L = []  # Initialize an empty list.\n",
    "        for i in range(capacity):  # Loop to create `capacity` number of linked lists.\n",
    "            L.append(LL())  # Append a new linked list to the list.\n",
    "        return L  # Return the list of linked lists.\n",
    "\n",
    "    def __setitem__(self, key, value):  # Overload `[]` for setting key-value pairs.\n",
    "        self.put(key, value)  # Call the `put` method.\n",
    "\n",
    "    def __getitem__(self, key):  # Overload `[]` for getting values by key.\n",
    "        return self.get(key)  # Call the `get` method.\n",
    "\n",
    "    def __delitem__(self, key):  # Overload `del` for deleting a key.\n",
    "        bucket_index = self.hash_function(key)  # Find the appropriate bucket index.\n",
    "        self.buckets[bucket_index].remove(key)  # Remove the key from the linked list in that bucket.\n",
    "\n",
    "    def __str__(self):  # Overload `str()` for printing the dictionary.\n",
    "        for i in self.buckets:  # Iterate through each bucket.\n",
    "            i.traverse()  # Traverse and print the linked list in each bucket.\n",
    "        return \"\"  # Return an empty string for formatting.\n",
    "\n",
    "    def __len__(self):  # Overload `len()` to return the size of the dictionary.\n",
    "        return self.size  # Return the number of key-value pairs.\n",
    "\n",
    "    def get(self, key):  # Method to retrieve the value for a given key.\n",
    "        bucket_index = self.hash_function(key)  # Find the appropriate bucket index.\n",
    "        res = self.buckets[bucket_index].search(key)  # Search for the key in the linked list.\n",
    "\n",
    "        if res == -1:  # If the key is not found, return \"Not Present\".\n",
    "            return \"Not Present\"\n",
    "        else:  # Otherwise, get the node at the found index and return its value.\n",
    "            node = self.buckets[bucket_index].get_node_at_index(res)\n",
    "            return node.value\n",
    "\n",
    "    def put(self, key, value):  # Method to insert or update a key-value pair.\n",
    "        bucket_index = self.hash_function(key)  # Find the appropriate bucket index.\n",
    "        node_index = self.get_node_index(bucket_index, key)  # Get the index of the node for the key.\n",
    "\n",
    "        if node_index == -1:  # If the key is not found, insert it as a new node.\n",
    "            self.buckets[bucket_index].add(key, value)  # Add the key-value pair to the linked list.\n",
    "            self.size += 1  # Increment the size of the dictionary.\n",
    "\n",
    "            load_factor = self.size / self.capacity  # Calculate the load factor.\n",
    "            print(load_factor)  # Print the load factor for debugging.\n",
    "\n",
    "            if load_factor >= 2:  # If the load factor exceeds 2, rehash the dictionary.\n",
    "                self.rehash()\n",
    "        else:  # If the key is found, update its value.\n",
    "            node = self.buckets[bucket_index].get_node_at_index(node_index)  # Get the node.\n",
    "            node.value = value  # Update the value.\n",
    "\n",
    "    def rehash(self):  # Method to rehash the dictionary when the load factor is high.\n",
    "        self.capacity = self.capacity * 2  # Double the capacity.\n",
    "        old_buckets = self.buckets  # Save the old buckets.\n",
    "        self.size = 0  # Reset the size.\n",
    "        self.buckets = self.make_array(self.capacity)  # Create a new array of linked lists.\n",
    "\n",
    "        for i in old_buckets:  # Iterate through each old bucket.\n",
    "            for j in range(i.size()):  # Iterate through each node in the linked list.\n",
    "                node = i.get_node_at_index(j)  # Get the node.\n",
    "                key_item = node.key  # Extract the key.\n",
    "                value_item = node.value  # Extract the value.\n",
    "                self.put(key_item, value_item)  # Re-insert the key-value pair into the new buckets.\n",
    "\n",
    "    def get_node_index(self, bucket_index, key):  # Helper method to get the index of a node in a bucket.\n",
    "        node_index = self.buckets[bucket_index].search(key)  # Search for the key in the linked list.\n",
    "        return node_index  # Return the index of the node, or -1 if not found.\n",
    "\n",
    "    def hash_function(self, key):  # Hash function to compute the bucket index.\n",
    "        return abs(hash(key)) % self.capacity  # Use Python's built-in hash function and mod by capacity.\n"
   ]
  },
  {
   "cell_type": "code",
   "execution_count": 4,
   "metadata": {
    "id": "f-1NfMh1voU2"
   },
   "outputs": [],
   "source": [
    "# get items\n",
    "# traverse\n",
    "# delete"
   ]
  },
  {
   "cell_type": "code",
   "execution_count": 5,
   "metadata": {
    "id": "1g-0TdPgylif"
   },
   "outputs": [],
   "source": [
    "L = []\n",
    "\n",
    "for i in range(3):\n",
    "  L.append(LL())"
   ]
  },
  {
   "cell_type": "code",
   "execution_count": 6,
   "metadata": {
    "colab": {
     "base_uri": "https://localhost:8080/"
    },
    "id": "gnel5azbynrp",
    "outputId": "7d0d5b02-187b-4daa-b2b4-8f856741cff9"
   },
   "outputs": [
    {
     "data": {
      "text/plain": [
       "[<__main__.LL at 0x2aa36caf0b0>,\n",
       " <__main__.LL at 0x2aa3703da90>,\n",
       " <__main__.LL at 0x2aa3703f650>]"
      ]
     },
     "execution_count": 6,
     "metadata": {},
     "output_type": "execute_result"
    }
   ],
   "source": [
    "L"
   ]
  },
  {
   "cell_type": "code",
   "execution_count": 7,
   "metadata": {
    "colab": {
     "base_uri": "https://localhost:8080/"
    },
    "id": "eiHqIb3Ayqcc",
    "outputId": "e02a1662-632e-4112-c062-4cfae494a026"
   },
   "outputs": [
    {
     "data": {
      "text/plain": [
       "__main__.LL"
      ]
     },
     "execution_count": 7,
     "metadata": {},
     "output_type": "execute_result"
    }
   ],
   "source": [
    "type(L[0])"
   ]
  },
  {
   "cell_type": "code",
   "execution_count": 8,
   "metadata": {
    "id": "4ErwNKDOyxC_"
   },
   "outputs": [],
   "source": [
    "L = [LL()] * 3"
   ]
  },
  {
   "cell_type": "code",
   "execution_count": 9,
   "metadata": {
    "colab": {
     "base_uri": "https://localhost:8080/"
    },
    "id": "GNyxjx1GzImN",
    "outputId": "4cffafa6-96ab-4832-9cc5-a96c97c351d1"
   },
   "outputs": [
    {
     "data": {
      "text/plain": [
       "[<__main__.LL at 0x2aa36c97560>,\n",
       " <__main__.LL at 0x2aa36c97560>,\n",
       " <__main__.LL at 0x2aa36c97560>]"
      ]
     },
     "execution_count": 9,
     "metadata": {},
     "output_type": "execute_result"
    }
   ],
   "source": [
    "L"
   ]
  },
  {
   "cell_type": "code",
   "execution_count": 10,
   "metadata": {
    "id": "ebSyUUwOzJNL"
   },
   "outputs": [],
   "source": [
    "L = LL()"
   ]
  },
  {
   "cell_type": "code",
   "execution_count": 11,
   "metadata": {
    "id": "8DIaEzDz2Qkm"
   },
   "outputs": [],
   "source": [
    "L.add(2,3)"
   ]
  },
  {
   "cell_type": "code",
   "execution_count": 12,
   "metadata": {
    "id": "S2tQqsow2SDP"
   },
   "outputs": [],
   "source": [
    "L.add(4,5)"
   ]
  },
  {
   "cell_type": "code",
   "execution_count": 13,
   "metadata": {
    "id": "xburqnbf2TIL"
   },
   "outputs": [],
   "source": [
    "L.add(6,7)"
   ]
  },
  {
   "cell_type": "code",
   "execution_count": 14,
   "metadata": {
    "colab": {
     "base_uri": "https://localhost:8080/"
    },
    "id": "v4M2yvXb2UV5",
    "outputId": "ceb8af33-4642-43d9-f384-71b00c513362"
   },
   "outputs": [
    {
     "name": "stdout",
     "output_type": "stream",
     "text": [
      "2 --> 3   4 --> 5   6 --> 7   "
     ]
    }
   ],
   "source": [
    "L.traverse()"
   ]
  },
  {
   "cell_type": "code",
   "execution_count": 15,
   "metadata": {
    "colab": {
     "base_uri": "https://localhost:8080/"
    },
    "id": "nGsk8KSb2Wni",
    "outputId": "101cb8cc-836f-464b-b7c8-cc3041fe832a"
   },
   "outputs": [
    {
     "data": {
      "text/plain": [
       "2"
      ]
     },
     "execution_count": 15,
     "metadata": {},
     "output_type": "execute_result"
    }
   ],
   "source": [
    "L.get_node_at_index(0).key"
   ]
  },
  {
   "cell_type": "code",
   "execution_count": 16,
   "metadata": {
    "id": "S7_1IJsO2dOf"
   },
   "outputs": [],
   "source": [
    "D1 = Dictionary(3)"
   ]
  },
  {
   "cell_type": "code",
   "execution_count": 17,
   "metadata": {
    "colab": {
     "base_uri": "https://localhost:8080/"
    },
    "id": "Dfyo_T733ydy",
    "outputId": "481df50d-5ca4-4b36-d4e6-ced30b1f4f12"
   },
   "outputs": [
    {
     "name": "stdout",
     "output_type": "stream",
     "text": [
      "0.3333333333333333\n"
     ]
    }
   ],
   "source": [
    "D1.put(\"c\",20000)"
   ]
  },
  {
   "cell_type": "code",
   "execution_count": 18,
   "metadata": {
    "colab": {
     "base_uri": "https://localhost:8080/",
     "height": 35
    },
    "id": "nsbZt6pp3-Fc",
    "outputId": "1bd9cd08-44fd-457c-9075-13d5d71fb15e"
   },
   "outputs": [
    {
     "data": {
      "text/plain": [
       "'Not Present'"
      ]
     },
     "execution_count": 18,
     "metadata": {},
     "output_type": "execute_result"
    }
   ],
   "source": [
    "D1[\"java\"]"
   ]
  },
  {
   "cell_type": "code",
   "execution_count": null,
   "metadata": {
    "id": "-83pOiph4gZJ"
   },
   "outputs": [],
   "source": [
    "del D1[\"java\"]"
   ]
  },
  {
   "cell_type": "code",
   "execution_count": null,
   "metadata": {
    "colab": {
     "base_uri": "https://localhost:8080/"
    },
    "id": "gDBNpIki4k-U",
    "outputId": "10f24aae-2945-416f-bee1-6869a3154d51"
   },
   "outputs": [],
   "source": [
    "D1.put(\"Java\",56)"
   ]
  },
  {
   "cell_type": "code",
   "execution_count": null,
   "metadata": {
    "id": "4t6613Mq4tsG"
   },
   "outputs": [],
   "source": [
    "D1 = Dictionary(4)"
   ]
  },
  {
   "cell_type": "code",
   "execution_count": 20,
   "metadata": {
    "colab": {
     "base_uri": "https://localhost:8080/"
    },
    "id": "-_px_9XJ7M4N",
    "outputId": "9c962f2b-e743-4208-9bce-9cae866deb98"
   },
   "outputs": [
    {
     "name": "stdout",
     "output_type": "stream",
     "text": [
      "0.6666666666666666\n"
     ]
    }
   ],
   "source": [
    "D1.put(\"php\",34)"
   ]
  },
  {
   "cell_type": "code",
   "execution_count": null,
   "metadata": {
    "colab": {
     "base_uri": "https://localhost:8080/"
    },
    "id": "giRQ40pm7Y2f",
    "outputId": "1fa50109-4d19-4b33-8a6a-5b9c082f4d2b"
   },
   "outputs": [
    {
     "name": "stdout",
     "output_type": "stream",
     "text": [
      "1.0\n"
     ]
    }
   ],
   "source": [
    "D1[\"matlab\"] = 45"
   ]
  },
  {
   "cell_type": "code",
   "execution_count": 21,
   "metadata": {
    "colab": {
     "base_uri": "https://localhost:8080/"
    },
    "id": "4B8OPQrgxwMy",
    "outputId": "0e82f476-d62c-4d4a-a2d8-33900140cbd6"
   },
   "outputs": [
    {
     "name": "stdout",
     "output_type": "stream",
     "text": [
      "c --> 20000   php --> 34   \n"
     ]
    }
   ],
   "source": [
    "print(D1)"
   ]
  },
  {
   "cell_type": "code",
   "execution_count": 22,
   "metadata": {
    "colab": {
     "base_uri": "https://localhost:8080/"
    },
    "id": "epVCxmJpxypX",
    "outputId": "86edeb6b-baf7-456d-947c-8646cd0e6738"
   },
   "outputs": [
    {
     "data": {
      "text/plain": [
       "2"
      ]
     },
     "execution_count": 22,
     "metadata": {},
     "output_type": "execute_result"
    }
   ],
   "source": [
    "len(D1)"
   ]
  },
  {
   "cell_type": "code",
   "execution_count": null,
   "metadata": {
    "id": "k9IVgAlX0XFo"
   },
   "outputs": [],
   "source": []
  }
 ],
 "metadata": {
  "colab": {
   "provenance": []
  },
  "kernelspec": {
   "display_name": "Python 3 (ipykernel)",
   "language": "python",
   "name": "python3"
  },
  "language_info": {
   "codemirror_mode": {
    "name": "ipython",
    "version": 3
   },
   "file_extension": ".py",
   "mimetype": "text/x-python",
   "name": "python",
   "nbconvert_exporter": "python",
   "pygments_lexer": "ipython3",
   "version": "3.12.7"
  }
 },
 "nbformat": 4,
 "nbformat_minor": 4
}
