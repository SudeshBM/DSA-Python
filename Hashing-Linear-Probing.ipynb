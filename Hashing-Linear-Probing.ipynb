{
 "cells": [
  {
   "cell_type": "code",
   "execution_count": 9,
   "id": "ea0667ad-38fd-4297-8ed8-3aeff2ff02db",
   "metadata": {},
   "outputs": [],
   "source": [
    "class Dictionary:\n",
    "    def __init__(self, size):\n",
    "        # Initialize the dictionary with a fixed size\n",
    "        self.size = size\n",
    "        # Initialize slots for keys\n",
    "        self.slots = [None] * size\n",
    "        # Initialize slots for values\n",
    "        self.data = [None] * size\n",
    "\n",
    "    def hash_function(self, key):\n",
    "        # Compute the hash value for a given key using modulo operator\n",
    "        return hash(key) % self.size\n",
    "\n",
    "    def rehash(self, old_hash):\n",
    "        # Compute the next hash value using linear probing\n",
    "        return (old_hash + 1) % self.size\n",
    "\n",
    "    def put(self, key, value):\n",
    "        # Insert a key-value pair into the dictionary\n",
    "        hash_value = self.hash_function(key)  # Compute the initial hash value\n",
    "\n",
    "        # If the slot is empty or the key already exists\n",
    "        if self.slots[hash_value] is None or self.slots[hash_value] == key:\n",
    "            self.slots[hash_value] = key  # Assign the key to the slot\n",
    "            self.data[hash_value] = value  # Assign the value to the slot\n",
    "        else:\n",
    "            # Handle collision using linear probing\n",
    "            new_hash_value = self.rehash(hash_value)  # Find the next slot\n",
    "            while self.slots[new_hash_value] is not None and self.slots[new_hash_value] != key:\n",
    "                # Keep probing until an empty slot or the key is found\n",
    "                new_hash_value = self.rehash(new_hash_value)\n",
    "\n",
    "            # If an empty slot is found, insert the key and value\n",
    "            if self.slots[new_hash_value] is None:\n",
    "                self.slots[new_hash_value] = key\n",
    "                self.data[new_hash_value] = value\n",
    "            else:\n",
    "                # If the key already exists, update the value\n",
    "                self.data[new_hash_value] = value\n",
    "\n",
    "    def get(self, key):\n",
    "        # Retrieve the value associated with a given key\n",
    "        start_position = self.hash_function(key)  # Compute the initial hash value\n",
    "        current_position = start_position\n",
    "\n",
    "        while self.slots[current_position] is not None:\n",
    "            # Check if the key matches\n",
    "            if self.slots[current_position] == key:\n",
    "                return self.data[current_position]  # Return the value\n",
    "\n",
    "            # Move to the next slot using linear probing\n",
    "            current_position = self.rehash(current_position)\n",
    "\n",
    "            # Stop if we've looped back to the start position\n",
    "            if current_position == start_position:\n",
    "                return \"Not Found\"\n",
    "\n",
    "        # If no matching key is found, return a not found message\n",
    "        return \"None wala Not Found\"\n",
    "\n",
    "    def __str__(self):\n",
    "        # Provide a string representation of the dictionary\n",
    "        for i in range(len(self.slots)):\n",
    "            if self.slots[i] is not None:  # Only display non-empty slots\n",
    "                print(self.slots[i], \":\", self.data[i], end=' ')\n",
    "        return \"\"\n",
    "\n",
    "    def __getitem__(self, key):\n",
    "        # Allow dictionary-style access for getting values\n",
    "        return self.get(key)\n",
    "\n",
    "    def __setitem__(self, key, value):\n",
    "        # Allow dictionary-style access for setting values\n",
    "        self.put(key, value)\n"
   ]
  },
  {
   "cell_type": "code",
   "execution_count": 10,
   "id": "81758346-1743-4e7d-a122-188baac93a04",
   "metadata": {},
   "outputs": [],
   "source": [
    "d1 = Dictionary(4)"
   ]
  },
  {
   "cell_type": "code",
   "execution_count": 11,
   "id": "a480528f-e6be-438d-86b8-cf67240a48da",
   "metadata": {},
   "outputs": [],
   "source": [
    "d1[\"php\"] = 75\n",
    "d1[\"java\"] = 100\n",
    "d1[\"c\"] = 85\n",
    "d1[\"python\"] = 145"
   ]
  },
  {
   "cell_type": "code",
   "execution_count": 12,
   "id": "b704c341-8aa5-49ec-b7b5-28191082e2b2",
   "metadata": {},
   "outputs": [
    {
     "data": {
      "text/plain": [
       "85"
      ]
     },
     "execution_count": 12,
     "metadata": {},
     "output_type": "execute_result"
    }
   ],
   "source": [
    "d1[\"c\"]"
   ]
  },
  {
   "cell_type": "code",
   "execution_count": 13,
   "id": "bd2db9ca-e0a8-4a5d-8271-5f231fa66fb7",
   "metadata": {},
   "outputs": [
    {
     "name": "stdout",
     "output_type": "stream",
     "text": [
      "java : 100 c : 85 php : 75 python : 145 \n"
     ]
    }
   ],
   "source": [
    "print(d1)"
   ]
  },
  {
   "cell_type": "code",
   "execution_count": null,
   "id": "b84af97f-631b-426b-96a5-ad9cb6d8794b",
   "metadata": {},
   "outputs": [],
   "source": []
  }
 ],
 "metadata": {
  "kernelspec": {
   "display_name": "Python 3 (ipykernel)",
   "language": "python",
   "name": "python3"
  },
  "language_info": {
   "codemirror_mode": {
    "name": "ipython",
    "version": 3
   },
   "file_extension": ".py",
   "mimetype": "text/x-python",
   "name": "python",
   "nbconvert_exporter": "python",
   "pygments_lexer": "ipython3",
   "version": "3.12.7"
  }
 },
 "nbformat": 4,
 "nbformat_minor": 5
}
